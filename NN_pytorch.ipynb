{
  "nbformat": 4,
  "nbformat_minor": 0,
  "metadata": {
    "colab": {
      "name": "NN_pytorch.ipynb",
      "provenance": [],
      "authorship_tag": "ABX9TyNW/HTX3vva74VB5HtS8K6Y",
      "include_colab_link": true
    },
    "kernelspec": {
      "name": "python3",
      "display_name": "Python 3"
    },
    "language_info": {
      "name": "python"
    }
  },
  "cells": [
    {
      "cell_type": "markdown",
      "metadata": {
        "id": "view-in-github",
        "colab_type": "text"
      },
      "source": [
        "<a href=\"https://colab.research.google.com/github/suneelkumarpentela/Deep_Learning_Models/blob/master/NN_pytorch.ipynb\" target=\"_parent\"><img src=\"https://colab.research.google.com/assets/colab-badge.svg\" alt=\"Open In Colab\"/></a>"
      ]
    },
    {
      "cell_type": "code",
      "metadata": {
        "id": "WXlHXCmtSxao"
      },
      "source": [
        "import torch\n",
        "import torch.nn as nn\n",
        "from torch.utils.data import DataLoader, TensorDataset\n",
        "import torch.nn.functional as F\n",
        "import matplotlib.pyplot as plt\n",
        "import pandas as pd\n",
        "import os\n",
        "import numpy as np\n",
        "import sklearn\n",
        "from sklearn.metrics import classification_report, confusion_matrix"
      ],
      "execution_count": null,
      "outputs": []
    },
    {
      "cell_type": "code",
      "metadata": {
        "id": "wW10KB-QR7z8",
        "colab": {
          "base_uri": "https://localhost:8080/",
          "height": 35
        },
        "outputId": "e4b9ede6-2961-4913-86a2-fcbc623ffcbd"
      },
      "source": [
        "os.getcwd()"
      ],
      "execution_count": null,
      "outputs": [
        {
          "output_type": "execute_result",
          "data": {
            "application/vnd.google.colaboratory.intrinsic+json": {
              "type": "string"
            },
            "text/plain": [
              "'/content'"
            ]
          },
          "metadata": {
            "tags": []
          },
          "execution_count": 2
        }
      ]
    },
    {
      "cell_type": "code",
      "metadata": {
        "colab": {
          "base_uri": "https://localhost:8080/"
        },
        "id": "maPOG8dQTKMT",
        "outputId": "7595c484-9577-4158-9ff4-087e304265c5"
      },
      "source": [
        "from google.colab import drive\n",
        "drive.mount('/content/drive')"
      ],
      "execution_count": null,
      "outputs": [
        {
          "output_type": "stream",
          "text": [
            "Mounted at /content/drive\n"
          ],
          "name": "stdout"
        }
      ]
    },
    {
      "cell_type": "code",
      "metadata": {
        "id": "WS8zd5uTTtli"
      },
      "source": [
        "os.chdir(\"/content/drive/MyDrive/Colab Notebooks/Mathlogic\")"
      ],
      "execution_count": null,
      "outputs": []
    },
    {
      "cell_type": "code",
      "metadata": {
        "colab": {
          "base_uri": "https://localhost:8080/"
        },
        "id": "oPUzZeJzTb5K",
        "outputId": "fe101507-6964-4b49-dce1-a31d613a5747"
      },
      "source": [
        "train = pd.read_csv(\"./Data/train.csv\")\n",
        "print(train.shape)"
      ],
      "execution_count": null,
      "outputs": [
        {
          "output_type": "stream",
          "text": [
            "(90000, 95)\n"
          ],
          "name": "stdout"
        }
      ]
    },
    {
      "cell_type": "code",
      "metadata": {
        "id": "AP_Z-Cp1Tf1z"
      },
      "source": [
        "train['target_new'] = np.where(train['target']==0,0,1)\n",
        "train.drop(['target'],axis=1,inplace=True)"
      ],
      "execution_count": null,
      "outputs": []
    },
    {
      "cell_type": "code",
      "metadata": {
        "colab": {
          "base_uri": "https://localhost:8080/"
        },
        "id": "Y0EcvGb4Tf4J",
        "outputId": "0961b504-6c2d-43e4-8c0e-dd21ae9f49a1"
      },
      "source": [
        "val = pd.read_csv(\"./Data/valid.csv\")\n",
        "print(val.shape)\n",
        "val['target_new'] = np.where(val['target']==0,0,1)\n",
        "val.drop('target',axis=1,inplace=True)"
      ],
      "execution_count": null,
      "outputs": [
        {
          "output_type": "stream",
          "text": [
            "(29000, 95)\n"
          ],
          "name": "stdout"
        }
      ]
    },
    {
      "cell_type": "code",
      "metadata": {
        "colab": {
          "base_uri": "https://localhost:8080/"
        },
        "id": "uhRkdSRoTf7Y",
        "outputId": "761d2529-fe28-48f0-bdaf-7299a31b8ad7"
      },
      "source": [
        "test = pd.read_csv(\"./Data/test.csv\")\n",
        "print(test.shape)\n",
        "test['target_new'] = np.where(test['target']==0,0,1)\n",
        "test.drop('target',axis=1,inplace=True)"
      ],
      "execution_count": null,
      "outputs": [
        {
          "output_type": "stream",
          "text": [
            "(29580, 95)\n"
          ],
          "name": "stdout"
        }
      ]
    },
    {
      "cell_type": "code",
      "metadata": {
        "id": "CGffhGuxWqMk"
      },
      "source": [
        "frames = [train,test]\n",
        "X = pd.concat(frames)"
      ],
      "execution_count": null,
      "outputs": []
    },
    {
      "cell_type": "code",
      "metadata": {
        "colab": {
          "base_uri": "https://localhost:8080/"
        },
        "id": "A6zP0gSdTf-m",
        "outputId": "734b5c55-932f-4f01-974f-fc97f7607dd1"
      },
      "source": [
        "Xtrain = X.drop('target_new',axis=1)\n",
        "y_train_np = np.array([X['target_new']]).reshape(-1,1)\n",
        "Xtrain.shape"
      ],
      "execution_count": null,
      "outputs": [
        {
          "output_type": "execute_result",
          "data": {
            "text/plain": [
              "(119580, 94)"
            ]
          },
          "metadata": {
            "tags": []
          },
          "execution_count": 12
        }
      ]
    },
    {
      "cell_type": "code",
      "metadata": {
        "colab": {
          "base_uri": "https://localhost:8080/"
        },
        "id": "clSYNWxLTgBF",
        "outputId": "d77c7e1e-0ca3-4eac-937f-49246a6e868c"
      },
      "source": [
        "Xtest = val.drop('target_new',axis=1)\n",
        "y_test_np = np.array([val['target_new']]).reshape(-1,1)\n",
        "Xtest.shape"
      ],
      "execution_count": null,
      "outputs": [
        {
          "output_type": "execute_result",
          "data": {
            "text/plain": [
              "(29000, 94)"
            ]
          },
          "metadata": {
            "tags": []
          },
          "execution_count": 15
        }
      ]
    },
    {
      "cell_type": "code",
      "metadata": {
        "colab": {
          "base_uri": "https://localhost:8080/"
        },
        "id": "xINXH2CKasrd",
        "outputId": "fa090626-45e8-4553-ace2-2e161da13b75"
      },
      "source": [
        "y_test_np.shape"
      ],
      "execution_count": null,
      "outputs": [
        {
          "output_type": "execute_result",
          "data": {
            "text/plain": [
              "(29000, 1)"
            ]
          },
          "metadata": {
            "tags": []
          },
          "execution_count": 16
        }
      ]
    },
    {
      "cell_type": "code",
      "metadata": {
        "id": "KKBnt4FwVaFs"
      },
      "source": [
        "from sklearn.preprocessing import StandardScaler\n",
        "\n",
        "scaler = StandardScaler().fit(Xtrain)\n",
        "\n",
        "X_train_np = scaler.transform(Xtrain)\n",
        "\n",
        "X_test_np = scaler.transform(Xtest)"
      ],
      "execution_count": null,
      "outputs": []
    },
    {
      "cell_type": "code",
      "metadata": {
        "id": "Rflwcjgg9Kf9"
      },
      "source": [
        "X_train = torch.FloatTensor(X_train_np)\n",
        "\n",
        "X_test = torch.FloatTensor(X_test_np)\n",
        "\n",
        "y_train = torch.FloatTensor(y_train_np)\n",
        "y_test = torch.FloatTensor(y_test_np)"
      ],
      "execution_count": null,
      "outputs": []
    },
    {
      "cell_type": "code",
      "metadata": {
        "colab": {
          "base_uri": "https://localhost:8080/"
        },
        "id": "N5kGUJzdZwJn",
        "outputId": "4cd0c629-91c6-440c-cc06-f4f575a094f5"
      },
      "source": [
        "print(y_train.shape)"
      ],
      "execution_count": null,
      "outputs": [
        {
          "output_type": "stream",
          "text": [
            "torch.Size([119580, 1])\n"
          ],
          "name": "stdout"
        }
      ]
    },
    {
      "cell_type": "code",
      "metadata": {
        "id": "nIbFofcOy1pb"
      },
      "source": [
        ""
      ],
      "execution_count": null,
      "outputs": []
    },
    {
      "cell_type": "code",
      "metadata": {
        "colab": {
          "base_uri": "https://localhost:8080/"
        },
        "id": "bkJJw4HTy2KF",
        "outputId": "c3025d43-627e-4a3b-bebb-140913b7beee"
      },
      "source": [
        "batch_size = 256\n",
        "num_train_batches = int(X_train_np.shape[0]/batch_size)+1\n",
        "num_test_batches = int(X_test_np.shape[0]/batch_size)+1\n",
        "train_data_size = X_train_np.shape[0]\n",
        "test_data_size = X_test_np.shape[0]\n",
        "print(\"Train :\",num_train_batches,train_data_size)\n",
        "print(\"Test :\",num_test_batches,test_data_size)"
      ],
      "execution_count": null,
      "outputs": [
        {
          "output_type": "stream",
          "text": [
            "Train : 468 119580\n",
            "Test : 114 29000\n"
          ],
          "name": "stdout"
        }
      ]
    },
    {
      "cell_type": "code",
      "metadata": {
        "id": "BiYElMhJy2KG"
      },
      "source": [
        "train_dataset = TensorDataset(X_train,y_train)\n",
        "train_dataloader = DataLoader(train_dataset,batch_size=batch_size,shuffle=True)"
      ],
      "execution_count": null,
      "outputs": []
    },
    {
      "cell_type": "code",
      "metadata": {
        "id": "eVWd9vjVR6VT"
      },
      "source": [
        "test_dataset = TensorDataset(X_test,y_test)\n",
        "test_dataloader = DataLoader(test_dataset,batch_size=batch_size,shuffle=True)"
      ],
      "execution_count": null,
      "outputs": []
    },
    {
      "cell_type": "code",
      "metadata": {
        "id": "B1DoO1Ury2KG"
      },
      "source": [
        "train_loader = DataLoader(train_dataset)\n",
        "test_loader = DataLoader(test_dataset)"
      ],
      "execution_count": null,
      "outputs": []
    },
    {
      "cell_type": "code",
      "metadata": {
        "id": "dxkZxldPy6W0"
      },
      "source": [
        ""
      ],
      "execution_count": null,
      "outputs": []
    },
    {
      "cell_type": "code",
      "metadata": {
        "id": "4r2X2mS7y6qp"
      },
      "source": [
        "class ANN(nn.Module):\n",
        "  def __init__(self):\n",
        "     super().__init__()\n",
        "     self.fc1 = nn.Linear(in_features=94, out_features=64)\n",
        "     self.fc2 = nn.Linear(in_features=64, out_features=64)\n",
        "     self.fc3 = nn.Linear(in_features=64, out_features=1)\n",
        "     self.relu1 = nn.ReLU()\n",
        "     self.relu2 = nn.ReLU()\n",
        "     self.sigmoid = nn.Sigmoid()\n",
        "\n",
        "\n",
        "  def forward(self, x):\n",
        "    x = self.fc1(x)\n",
        "    x = self.relu1(x)\n",
        "    x = self.fc2(x)\n",
        "    x = self.relu2(x)\n",
        "    x = self.fc3(x)\n",
        "    x = self.sigmoid(x)\n",
        "    return x"
      ],
      "execution_count": null,
      "outputs": []
    },
    {
      "cell_type": "code",
      "metadata": {
        "id": "3N3VAXM4jlxD"
      },
      "source": [
        "model = ANN()"
      ],
      "execution_count": null,
      "outputs": []
    },
    {
      "cell_type": "code",
      "metadata": {
        "colab": {
          "base_uri": "https://localhost:8080/"
        },
        "id": "HEZEGX0PiH3b",
        "outputId": "317670ee-53e2-4c90-c806-b185f32f3161"
      },
      "source": [
        "total_params = sum(p.numel() for p in model.parameters())\n",
        "total_params"
      ],
      "execution_count": null,
      "outputs": [
        {
          "output_type": "execute_result",
          "data": {
            "text/plain": [
              "10305"
            ]
          },
          "metadata": {
            "tags": []
          },
          "execution_count": 26
        }
      ]
    },
    {
      "cell_type": "code",
      "metadata": {
        "colab": {
          "base_uri": "https://localhost:8080/"
        },
        "id": "87LEfcnJl0IS",
        "outputId": "9debd9f7-e0c6-460f-9ade-d8b98656edb0"
      },
      "source": [
        "print(model.forward)"
      ],
      "execution_count": null,
      "outputs": [
        {
          "output_type": "stream",
          "text": [
            "<bound method ANN.forward of ANN(\n",
            "  (fc1): Linear(in_features=94, out_features=64, bias=True)\n",
            "  (fc2): Linear(in_features=64, out_features=64, bias=True)\n",
            "  (fc3): Linear(in_features=64, out_features=1, bias=True)\n",
            "  (relu1): ReLU()\n",
            "  (relu2): ReLU()\n",
            "  (sigmoid): Sigmoid()\n",
            ")>\n"
          ],
          "name": "stdout"
        }
      ]
    },
    {
      "cell_type": "code",
      "metadata": {
        "id": "3E1jw0Qty2KH"
      },
      "source": [
        "# loss_func = nn.BCELoss(reduction=\"sum\")\n",
        "loss_func = nn.BCELoss()\n",
        "optimizer = torch.optim.SGD(model.parameters(),lr=0.001)"
      ],
      "execution_count": null,
      "outputs": []
    },
    {
      "cell_type": "code",
      "metadata": {
        "id": "g0zcZ_iLy2KI"
      },
      "source": [
        "epochs = 100"
      ],
      "execution_count": null,
      "outputs": []
    },
    {
      "cell_type": "code",
      "metadata": {
        "id": "LfiU-nlLWi0i",
        "colab": {
          "base_uri": "https://localhost:8080/"
        },
        "outputId": "3905b808-64a9-4e46-d374-f970bf97286e"
      },
      "source": [
        "losses = []\n",
        "accuracy = []\n",
        "val_losses = []\n",
        "val_accuracy = []\n",
        "\n",
        "for epoch in range(epochs):\n",
        "\n",
        "  model.train()\n",
        "  running_loss = 0\n",
        "  running_val_loss = 0\n",
        "  running_acc = 0\n",
        "  running_val_acc = 0\n",
        "\n",
        "  for i,data in enumerate(train_dataloader):\n",
        "    train_x,train_y = data\n",
        "    y_pred = model(train_x)\n",
        "    loss = loss_func(y_pred,train_y)\n",
        "    # predicted = model(torch.tensor(X_train_np,dtype=torch.float32))\n",
        "    acc = (y_pred.reshape(-1).detach().numpy().round() == \n",
        "           train_y.reshape(-1).detach().numpy().round()).mean()\n",
        "    running_loss += loss.item()/(num_train_batches)\n",
        "    running_acc += acc/(num_train_batches)\n",
        "    \n",
        "    #reset grads\n",
        "    optimizer.zero_grad()\n",
        "    \n",
        "    #backward\n",
        "    loss.backward()\n",
        "\n",
        "    #weight updates\n",
        "    optimizer.step()\n",
        "\n",
        "  print(f'Epoch: {epoch+1} Loss: {running_loss} Accuracy: {running_acc}',end = \" \")\n",
        "\n",
        "  model.eval()  \n",
        "  for i,data in enumerate(test_dataloader):\n",
        "    X_val,y_val = data\n",
        "    y_pred_val = model(X_val)\n",
        "    val_loss = loss_func(y_pred_val,y_val)\n",
        "    val_acc = (y_pred_val.reshape(-1).detach().numpy().round() == \n",
        "           y_val.reshape(-1).detach().numpy().round()).mean()\n",
        "\n",
        "    running_val_loss += val_loss.item()/(num_test_batches)\n",
        "    running_val_acc += val_acc/(num_test_batches)\n",
        "    \n",
        "  print(f'Val Loss: {running_val_loss} Val Accuracy: {running_val_acc}')\n",
        "\n",
        "\n",
        "  losses.append(running_loss)\n",
        "  accuracy.append(running_acc)\n",
        "  val_losses.append(running_val_loss)\n",
        "  val_accuracy.append(running_val_acc)  "
      ],
      "execution_count": null,
      "outputs": [
        {
          "output_type": "stream",
          "text": [
            "Epoch: 1 Loss: 0.6162483895945747 Accuracy: 0.8365706559065933 Val Loss: 0.5278491524227877 Val Accuracy: 0.9477529544346979\n",
            "Epoch: 2 Loss: 0.4601297923642349 Accuracy: 0.9475827991453005 Val Loss: 0.399258917099551 Val Accuracy: 0.9479280884502924\n",
            "Epoch: 3 Loss: 0.3559084130275962 Accuracy: 0.9475148332570205 Val Loss: 0.3171864222539098 Val Accuracy: 0.9481032224658867\n",
            "Epoch: 4 Loss: 0.29278548485320893 Accuracy: 0.9473109355921866 Val Loss: 0.2695847554949291 Val Accuracy: 0.948190789473684\n",
            "Epoch: 5 Loss: 0.2563204622357829 Accuracy: 0.9475827991453003 Val Loss: 0.243376963232693 Val Accuracy: 0.9479280884502919\n",
            "Epoch: 6 Loss: 0.23611594739760103 Accuracy: 0.9475148332570219 Val Loss: 0.22813341792738231 Val Accuracy: 0.9479280884502924\n",
            "Epoch: 7 Loss: 0.22484482840722442 Accuracy: 0.9473109355921859 Val Loss: 0.21927842576252787 Val Accuracy: 0.9479280884502919\n",
            "Epoch: 8 Loss: 0.21725845804963348 Accuracy: 0.947514833257021 Val Loss: 0.21401948207303104 Val Accuracy: 0.9477529544346976\n",
            "Epoch: 9 Loss: 0.21253051933569808 Accuracy: 0.9475827991452995 Val Loss: 0.21013128705192025 Val Accuracy: 0.9478405214424944\n",
            "Epoch: 10 Loss: 0.20991701368465393 Accuracy: 0.9473789014804648 Val Loss: 0.20744913738024862 Val Accuracy: 0.9478405214424946\n",
            "Epoch: 11 Loss: 0.20713944796823042 Accuracy: 0.9475827991453 Val Loss: 0.20573875955060913 Val Accuracy: 0.9477529544346976\n",
            "Epoch: 12 Loss: 0.20546008867776808 Accuracy: 0.9475827991453003 Val Loss: 0.20465551277524552 Val Accuracy: 0.947577820419103\n",
            "Epoch: 13 Loss: 0.20409441223511343 Accuracy: 0.9475827991453012 Val Loss: 0.2031892910599709 Val Accuracy: 0.9477529544346972\n",
            "Epoch: 14 Loss: 0.20330403407669487 Accuracy: 0.9474468673687435 Val Loss: 0.20143370062374233 Val Accuracy: 0.9480156554580891\n",
            "Epoch: 15 Loss: 0.20236738939952645 Accuracy: 0.9474468673687428 Val Loss: 0.20079162024092254 Val Accuracy: 0.9479280884502919\n",
            "Epoch: 16 Loss: 0.20122725869186664 Accuracy: 0.9475827991452999 Val Loss: 0.20042831940870529 Val Accuracy: 0.9477529544346976\n",
            "Epoch: 17 Loss: 0.20094369560416434 Accuracy: 0.9474468673687431 Val Loss: 0.19929712971574393 Val Accuracy: 0.947928088450292\n",
            "Epoch: 18 Loss: 0.20076993507388813 Accuracy: 0.9473109355921858 Val Loss: 0.1983699383573574 Val Accuracy: 0.9481032224658869\n",
            "Epoch: 19 Loss: 0.19951341204090497 Accuracy: 0.947514833257022 Val Loss: 0.19794738443012808 Val Accuracy: 0.9480156554580895\n",
            "Epoch: 20 Loss: 0.1990478173153013 Accuracy: 0.9475148332570216 Val Loss: 0.1978052276791188 Val Accuracy: 0.9479280884502919\n",
            "Epoch: 21 Loss: 0.19871283816094099 Accuracy: 0.9474468673687431 Val Loss: 0.1973416072626909 Val Accuracy: 0.9479280884502922\n",
            "Epoch: 22 Loss: 0.19796831792809494 Accuracy: 0.9475827991453002 Val Loss: 0.1975008202226539 Val Accuracy: 0.9477529544346975\n",
            "Epoch: 23 Loss: 0.19759758597669697 Accuracy: 0.9475827991453006 Val Loss: 0.19675395977601667 Val Accuracy: 0.9478405214424949\n",
            "Epoch: 24 Loss: 0.1974020218874654 Accuracy: 0.9475148332570225 Val Loss: 0.19758556613273798 Val Accuracy: 0.9474026864035084\n",
            "Epoch: 25 Loss: 0.1972401913128094 Accuracy: 0.947446867368743 Val Loss: 0.1962711718260196 Val Accuracy: 0.9478405214424949\n",
            "Epoch: 26 Loss: 0.19740129973834908 Accuracy: 0.9473109355921872 Val Loss: 0.1957714690320324 Val Accuracy: 0.9479280884502923\n",
            "Epoch: 27 Loss: 0.1969739840740068 Accuracy: 0.947310935592186 Val Loss: 0.1970477340775624 Val Accuracy: 0.947315119395711\n",
            "Epoch: 28 Loss: 0.1963636836785281 Accuracy: 0.9474468673687435 Val Loss: 0.19517195695324938 Val Accuracy: 0.9479280884502921\n",
            "Epoch: 29 Loss: 0.19589360782669657 Accuracy: 0.9475148332570219 Val Loss: 0.19546176695771386 Val Accuracy: 0.9477529544346974\n",
            "Epoch: 30 Loss: 0.1960905328647704 Accuracy: 0.947310935592186 Val Loss: 0.1961075034188597 Val Accuracy: 0.9473151193957112\n",
            "Epoch: 31 Loss: 0.1952390562997667 Accuracy: 0.9475827991453003 Val Loss: 0.1953100064736709 Val Accuracy: 0.9476653874269002\n",
            "Epoch: 32 Loss: 0.1955807168577982 Accuracy: 0.9473789014804654 Val Loss: 0.19382729322502487 Val Accuracy: 0.948103222465887\n",
            "Epoch: 33 Loss: 0.19515517182075037 Accuracy: 0.9474468673687433 Val Loss: 0.19361757741946928 Val Accuracy: 0.9481032224658866\n",
            "Epoch: 34 Loss: 0.1945660351098984 Accuracy: 0.9475827991453 Val Loss: 0.1937145084926957 Val Accuracy: 0.9480156554580897\n",
            "Epoch: 35 Loss: 0.19449687020009382 Accuracy: 0.947514833257022 Val Loss: 0.1933920672980317 Val Accuracy: 0.9480156554580893\n",
            "Epoch: 36 Loss: 0.19428986763088096 Accuracy: 0.9475148332570212 Val Loss: 0.19342183223680443 Val Accuracy: 0.947928088450292\n",
            "Epoch: 37 Loss: 0.19410618174916672 Accuracy: 0.9475148332570218 Val Loss: 0.19377536757996214 Val Accuracy: 0.9477529544346976\n",
            "Epoch: 38 Loss: 0.1937786602916626 Accuracy: 0.9475827991452994 Val Loss: 0.19362080731151396 Val Accuracy: 0.9477529544346974\n",
            "Epoch: 39 Loss: 0.19360232056301652 Accuracy: 0.9475827991453007 Val Loss: 0.19281122304107007 Val Accuracy: 0.9480156554580895\n",
            "Epoch: 40 Loss: 0.19360647342589662 Accuracy: 0.9475148332570219 Val Loss: 0.1933293596825056 Val Accuracy: 0.947840521442495\n",
            "Epoch: 41 Loss: 0.1943784625802793 Accuracy: 0.94717500381563 Val Loss: 0.19311071592464776 Val Accuracy: 0.9478405214424951\n",
            "Epoch: 42 Loss: 0.19326470293996173 Accuracy: 0.9475148332570218 Val Loss: 0.19247730736408308 Val Accuracy: 0.9479280884502922\n",
            "Epoch: 43 Loss: 0.1933728541510228 Accuracy: 0.9474468673687433 Val Loss: 0.19290312052818762 Val Accuracy: 0.9478405214424945\n",
            "Epoch: 44 Loss: 0.19280898457982093 Accuracy: 0.9475827991452999 Val Loss: 0.19242943117493075 Val Accuracy: 0.9478405214424946\n",
            "Epoch: 45 Loss: 0.19285203344546833 Accuracy: 0.9475148332570212 Val Loss: 0.19262203090546431 Val Accuracy: 0.9478405214424946\n",
            "Epoch: 46 Loss: 0.19284542414367722 Accuracy: 0.9474468673687435 Val Loss: 0.19176675183208367 Val Accuracy: 0.9480156554580895\n",
            "Epoch: 47 Loss: 0.19234897322857236 Accuracy: 0.9475827991452999 Val Loss: 0.19222358437745193 Val Accuracy: 0.9477529544346976\n",
            "Epoch: 48 Loss: 0.19234939255457156 Accuracy: 0.9475148332570219 Val Loss: 0.1926537288124101 Val Accuracy: 0.9475778204191029\n",
            "Epoch: 49 Loss: 0.19205412116602202 Accuracy: 0.9475827991453 Val Loss: 0.1917109420817149 Val Accuracy: 0.9479280884502918\n",
            "Epoch: 50 Loss: 0.1923565898791082 Accuracy: 0.9474468673687433 Val Loss: 0.19168926056539817 Val Accuracy: 0.947840521442495\n",
            "Epoch: 51 Loss: 0.19212710866943383 Accuracy: 0.9474468673687434 Val Loss: 0.19102902200661206 Val Accuracy: 0.9481032224658866\n",
            "Epoch: 52 Loss: 0.19182952014235852 Accuracy: 0.9475148332570218 Val Loss: 0.1914670760171455 Val Accuracy: 0.9478405214424951\n",
            "Epoch: 53 Loss: 0.19192807395488784 Accuracy: 0.9474468673687424 Val Loss: 0.1917916801022857 Val Accuracy: 0.9477529544346978\n",
            "Epoch: 54 Loss: 0.1924745806644106 Accuracy: 0.9474468673687427 Val Loss: 0.1911283304032526 Val Accuracy: 0.9479280884502922\n",
            "Epoch: 55 Loss: 0.19130730734835574 Accuracy: 0.9475827991453001 Val Loss: 0.1907833859716591 Val Accuracy: 0.9480156554580895\n",
            "Epoch: 56 Loss: 0.19160725655527716 Accuracy: 0.9474468673687427 Val Loss: 0.1908080200092835 Val Accuracy: 0.9479280884502921\n",
            "Epoch: 57 Loss: 0.19147155819158285 Accuracy: 0.9474468673687427 Val Loss: 0.1913069421915632 Val Accuracy: 0.9476653874268999\n",
            "Epoch: 58 Loss: 0.19140729833489828 Accuracy: 0.9473789014804652 Val Loss: 0.1905107485097751 Val Accuracy: 0.9479280884502925\n",
            "Epoch: 59 Loss: 0.19100062292801515 Accuracy: 0.947514833257021 Val Loss: 0.19061523793559315 Val Accuracy: 0.947928088450292\n",
            "Epoch: 60 Loss: 0.19092253153013375 Accuracy: 0.9475148332570221 Val Loss: 0.1908038131761968 Val Accuracy: 0.9477529544346975\n",
            "Epoch: 61 Loss: 0.1906510785970296 Accuracy: 0.9475827991452996 Val Loss: 0.1904047488381988 Val Accuracy: 0.9479280884502919\n",
            "Epoch: 62 Loss: 0.19077888237805946 Accuracy: 0.9475148332570211 Val Loss: 0.18983460492209386 Val Accuracy: 0.9481032224658866\n",
            "Epoch: 63 Loss: 0.19100438707914089 Accuracy: 0.947378901480465 Val Loss: 0.19057366454548996 Val Accuracy: 0.9478405214424946\n",
            "Epoch: 64 Loss: 0.19117736203484548 Accuracy: 0.9472429697039088 Val Loss: 0.19097959112964177 Val Accuracy: 0.9476653874269004\n",
            "Epoch: 65 Loss: 0.19024412837038707 Accuracy: 0.9475827991453009 Val Loss: 0.19069138326142956 Val Accuracy: 0.9477529544346981\n",
            "Epoch: 66 Loss: 0.19061135820662364 Accuracy: 0.9474468673687441 Val Loss: 0.19035424586189426 Val Accuracy: 0.9478405214424949\n",
            "Epoch: 67 Loss: 0.19003307249428875 Accuracy: 0.9475827991453 Val Loss: 0.18960022913259383 Val Accuracy: 0.9480156554580896\n",
            "Epoch: 68 Loss: 0.1899676300967353 Accuracy: 0.9475827991453009 Val Loss: 0.18957770158324316 Val Accuracy: 0.9480156554580897\n",
            "Epoch: 69 Loss: 0.19020181134916256 Accuracy: 0.9474468673687422 Val Loss: 0.1898858134160962 Val Accuracy: 0.9478405214424949\n",
            "Epoch: 70 Loss: 0.19023791592345277 Accuracy: 0.9473789014804652 Val Loss: 0.18940913847141105 Val Accuracy: 0.9481032224658869\n",
            "Epoch: 71 Loss: 0.1896726333050645 Accuracy: 0.9475827991453001 Val Loss: 0.1894385727089747 Val Accuracy: 0.9480156554580895\n",
            "Epoch: 72 Loss: 0.18975892333457117 Accuracy: 0.9475148332570206 Val Loss: 0.18918453699402646 Val Accuracy: 0.9480156554580893\n",
            "Epoch: 73 Loss: 0.19011937906472096 Accuracy: 0.9473789014804649 Val Loss: 0.1889132038412388 Val Accuracy: 0.9481032224658866\n",
            "Epoch: 74 Loss: 0.18944654148867998 Accuracy: 0.9475827991452993 Val Loss: 0.18899476390920183 Val Accuracy: 0.9480156554580899\n",
            "Epoch: 75 Loss: 0.1893426176622256 Accuracy: 0.9475827991453001 Val Loss: 0.1896924241854434 Val Accuracy: 0.9477529544346975\n",
            "Epoch: 76 Loss: 0.1892946013050457 Accuracy: 0.9475827991452996 Val Loss: 0.18941240600849465 Val Accuracy: 0.947840521442495\n",
            "Epoch: 77 Loss: 0.1895709724889862 Accuracy: 0.9474468673687434 Val Loss: 0.18886240153459066 Val Accuracy: 0.9480156554580896\n",
            "Epoch: 78 Loss: 0.18956888675626007 Accuracy: 0.9473789014804646 Val Loss: 0.1898524789956577 Val Accuracy: 0.9477529544346975\n",
            "Epoch: 79 Loss: 0.18924674218218024 Accuracy: 0.9475148332570208 Val Loss: 0.18887718662358174 Val Accuracy: 0.9479280884502919\n",
            "Epoch: 80 Loss: 0.18990418222597527 Accuracy: 0.9472429697039092 Val Loss: 0.18962641785803594 Val Accuracy: 0.9476653874269003\n",
            "Epoch: 81 Loss: 0.189238447887011 Accuracy: 0.9474468673687438 Val Loss: 0.1891262582911734 Val Accuracy: 0.9477529544346975\n",
            "Epoch: 82 Loss: 0.1888177620215165 Accuracy: 0.9475827991453007 Val Loss: 0.1889516132181151 Val Accuracy: 0.947840521442495\n",
            "Epoch: 83 Loss: 0.18888400268987696 Accuracy: 0.9475148332570218 Val Loss: 0.1896976682831321 Val Accuracy: 0.9475778204191032\n",
            "Epoch: 84 Loss: 0.18912953514064457 Accuracy: 0.9473789014804644 Val Loss: 0.18921171913021492 Val Accuracy: 0.9477529544346976\n",
            "Epoch: 85 Loss: 0.1889391548485838 Accuracy: 0.9474468673687432 Val Loss: 0.18967831853711803 Val Accuracy: 0.947490253411306\n",
            "Epoch: 86 Loss: 0.18908068714424586 Accuracy: 0.947378901480464 Val Loss: 0.18832520441266523 Val Accuracy: 0.9480156554580895\n",
            "Epoch: 87 Loss: 0.18899500032520725 Accuracy: 0.9473789014804649 Val Loss: 0.18885265846262897 Val Accuracy: 0.9478405214424949\n",
            "Epoch: 88 Loss: 0.18884033267187256 Accuracy: 0.9473789014804646 Val Loss: 0.1888343545428494 Val Accuracy: 0.9477529544346979\n",
            "Epoch: 89 Loss: 0.18852009426834263 Accuracy: 0.9475148332570222 Val Loss: 0.1879330659775358 Val Accuracy: 0.9481032224658865\n",
            "Epoch: 90 Loss: 0.18859788767484004 Accuracy: 0.9474468673687437 Val Loss: 0.18844754536423763 Val Accuracy: 0.9479280884502923\n",
            "Epoch: 91 Loss: 0.1883684157624713 Accuracy: 0.947514833257021 Val Loss: 0.18897398855341116 Val Accuracy: 0.9476653874269003\n",
            "Epoch: 92 Loss: 0.1881480911571499 Accuracy: 0.9475827991452996 Val Loss: 0.18840160894027938 Val Accuracy: 0.9478405214424945\n",
            "Epoch: 93 Loss: 0.18841431671992317 Accuracy: 0.9474468673687433 Val Loss: 0.18830070723044245 Val Accuracy: 0.9478405214424946\n",
            "Epoch: 94 Loss: 0.18832344736935744 Accuracy: 0.9474468673687428 Val Loss: 0.18821297076187632 Val Accuracy: 0.9478405214424946\n",
            "Epoch: 95 Loss: 0.18833769225857705 Accuracy: 0.9474468673687428 Val Loss: 0.18824517334762383 Val Accuracy: 0.9478405214424949\n",
            "Epoch: 96 Loss: 0.1881308003973502 Accuracy: 0.9475148332570208 Val Loss: 0.18808664767104288 Val Accuracy: 0.947840521442495\n",
            "Epoch: 97 Loss: 0.18786951544511538 Accuracy: 0.947582799145301 Val Loss: 0.18726162534011037 Val Accuracy: 0.9481907894736836\n",
            "Epoch: 98 Loss: 0.18796941115815433 Accuracy: 0.9475148332570222 Val Loss: 0.18747788602322868 Val Accuracy: 0.9481032224658865\n",
            "Epoch: 99 Loss: 0.18838273974246958 Accuracy: 0.9473109355921866 Val Loss: 0.18822469575363296 Val Accuracy: 0.9476653874269001\n",
            "Epoch: 100 Loss: 0.18768073840496627 Accuracy: 0.9475827991453011 Val Loss: 0.18732381847343943 Val Accuracy: 0.9481032224658867\n"
          ],
          "name": "stdout"
        }
      ]
    },
    {
      "cell_type": "code",
      "metadata": {
        "colab": {
          "base_uri": "https://localhost:8080/",
          "height": 312
        },
        "id": "8aBsxKAL51pg",
        "outputId": "a2a74e3a-eefc-41f2-bdd3-06cff65dc65c"
      },
      "source": [
        "plt.plot(losses,'r',label='train')\n",
        "plt.plot(val_losses,'b',label='val')\n",
        "plt.legend()\n",
        "plt.title('Loss vs Epochs')\n",
        "plt.xlabel('Epochs')\n",
        "plt.ylabel('loss')"
      ],
      "execution_count": null,
      "outputs": [
        {
          "output_type": "execute_result",
          "data": {
            "text/plain": [
              "Text(0, 0.5, 'loss')"
            ]
          },
          "metadata": {
            "tags": []
          },
          "execution_count": 31
        },
        {
          "output_type": "display_data",
          "data": {
            "image/png": "[encoded data removed]",
            "text/plain": [
              "<Figure size 432x288 with 1 Axes>"
            ]
          },
          "metadata": {
            "tags": [],
            "needs_background": "light"
          }
        }
      ]
    },
    {
      "cell_type": "code",
      "metadata": {
        "colab": {
          "base_uri": "https://localhost:8080/",
          "height": 312
        },
        "id": "W-MkbR1E52C6",
        "outputId": "b6656c34-2169-4233-cd44-b45bd125e444"
      },
      "source": [
        "plt.plot(accuracy,'r',label='train')\n",
        "plt.plot(val_accuracy,'b',label='val')\n",
        "plt.legend()\n",
        "plt.title('Accuracy vs Epochs')\n",
        "plt.xlabel('Accuracy')\n",
        "plt.ylabel('loss')"
      ],
      "execution_count": null,
      "outputs": [
        {
          "output_type": "execute_result",
          "data": {
            "text/plain": [
              "Text(0, 0.5, 'loss')"
            ]
          },
          "metadata": {
            "tags": []
          },
          "execution_count": 32
        },
        {
          "output_type": "display_data",
          "data": {
            "image/png": "[encoded data removed]",
            "text/plain": [
              "<Figure size 432x288 with 1 Axes>"
            ]
          },
          "metadata": {
            "tags": [],
            "needs_background": "light"
          }
        }
      ]
    },
    {
      "cell_type": "code",
      "metadata": {
        "id": "C6yL3SPrmmN_"
      },
      "source": [
        "model.eval()\n",
        "preds_train = []\n",
        "with torch.no_grad():\n",
        "   for i,data in enumerate(train_loader):\n",
        "     trainx,trainy = data\n",
        "     y_hat = model.forward(trainx)\n",
        "     preds_train.append(y_hat)"
      ],
      "execution_count": null,
      "outputs": []
    },
    {
      "cell_type": "code",
      "metadata": {
        "colab": {
          "base_uri": "https://localhost:8080/"
        },
        "id": "6jflFkP_mmOA",
        "outputId": "ea21c7ef-cbcb-4b3b-ef9e-3004cecf38c8"
      },
      "source": [
        "preds_train = np.array(preds_train)\n",
        "preds_train"
      ],
      "execution_count": null,
      "outputs": [
        {
          "output_type": "execute_result",
          "data": {
            "text/plain": [
              "array([0.08118213, 0.00289961, 0.045263  , ..., 0.03070581, 0.02625144,\n",
              "       0.04998134], dtype=float32)"
            ]
          },
          "metadata": {
            "tags": []
          },
          "execution_count": 36
        }
      ]
    },
    {
      "cell_type": "code",
      "metadata": {
        "id": "VafrbPmbhNxa"
      },
      "source": [
        "def best_f1(preds,y_test_np):\n",
        "  f1_max = 0\n",
        "  cutoff = -1\n",
        "  for i in np.arange(0.01,1,0.01):\n",
        "    preds1 = (preds>=i)*1 \n",
        "    #print(sum(preds1))\n",
        "    f1_score = sklearn.metrics.precision_recall_fscore_support(preds1,y_test_np)[2][1]\n",
        "    print(f1_score)\n",
        "    if (not f1_score):\n",
        "      break\n",
        "    if (f1_score > f1_max):\n",
        "      f1_max = f1_score\n",
        "      cutoff = i\n",
        "  return cutoff,f1_max"
      ],
      "execution_count": null,
      "outputs": []
    },
    {
      "cell_type": "code",
      "metadata": {
        "id": "eMWeHhaOnJov",
        "colab": {
          "base_uri": "https://localhost:8080/"
        },
        "outputId": "9a95733b-4ea1-4ca6-ed73-7415e394fdb7"
      },
      "source": [
        "train_cutoff,train_f1 = best_f1(preds_train,y_train_np)"
      ],
      "execution_count": null,
      "outputs": [
        {
          "output_type": "stream",
          "text": [
            "0.11220965728396862\n",
            "0.12648196150087113\n",
            "0.14021190216853152\n",
            "0.1526209301324456\n",
            "0.16295832027577564\n",
            "0.17145438801249954\n",
            "0.17937993187012202\n",
            "0.18964308890330953\n",
            "0.1988232074438971\n",
            "0.20631067961165048\n",
            "0.20256776034236804\n",
            "0.18726708074534162\n",
            "0.16665109761793553\n",
            "0.13600352112676056\n",
            "0.10759651307596513\n",
            "0.07555982964692952\n",
            "0.046918257321870896\n",
            "0.027322404371584702\n",
            "0.0155448468832582\n",
            "0.010367577756833175\n",
            "0.004748338081671414\n",
            "0.0022246941045606233\n",
            "0.001591089896579157\n",
            "0.00031842063365706094\n",
            "0.0\n"
          ],
          "name": "stdout"
        },
        {
          "output_type": "stream",
          "text": [
            "/usr/local/lib/python3.7/dist-packages/sklearn/metrics/_classification.py:1272: UndefinedMetricWarning: Recall and F-score are ill-defined and being set to 0.0 in labels with no true samples. Use `zero_division` parameter to control this behavior.\n",
            "  _warn_prf(average, modifier, msg_start, len(result))\n"
          ],
          "name": "stderr"
        }
      ]
    },
    {
      "cell_type": "code",
      "metadata": {
        "colab": {
          "base_uri": "https://localhost:8080/"
        },
        "id": "cr7o6G_SnW_O",
        "outputId": "b3cf3500-d506-494e-bef1-bd91a63546fd"
      },
      "source": [
        "train_cutoff,train_f1"
      ],
      "execution_count": null,
      "outputs": [
        {
          "output_type": "execute_result",
          "data": {
            "text/plain": [
              "(0.09999999999999999, 0.20631067961165048)"
            ]
          },
          "metadata": {
            "tags": []
          },
          "execution_count": 39
        }
      ]
    },
    {
      "cell_type": "code",
      "metadata": {
        "id": "4zhpl5OcnjEL"
      },
      "source": [
        "preds_train_ideal = (preds_train>=train_cutoff)*1"
      ],
      "execution_count": null,
      "outputs": []
    },
    {
      "cell_type": "code",
      "metadata": {
        "colab": {
          "base_uri": "https://localhost:8080/"
        },
        "id": "DPP81ye5njEN",
        "outputId": "91348e76-e781-4d96-9a9d-cc2c09b2b655"
      },
      "source": [
        "print(classification_report(preds_train_ideal,y_train_np))"
      ],
      "execution_count": null,
      "outputs": [
        {
          "output_type": "stream",
          "text": [
            "              precision    recall  f1-score   support\n",
            "\n",
            "           0       0.89      0.96      0.92    104436\n",
            "           1       0.35      0.15      0.21     15144\n",
            "\n",
            "    accuracy                           0.86    119580\n",
            "   macro avg       0.62      0.55      0.56    119580\n",
            "weighted avg       0.82      0.86      0.83    119580\n",
            "\n"
          ],
          "name": "stdout"
        }
      ]
    },
    {
      "cell_type": "code",
      "metadata": {
        "id": "PzEK_zwEZXZT"
      },
      "source": [
        "model.eval()\n",
        "preds = []\n",
        "with torch.no_grad():\n",
        "   for i,data in enumerate(test_loader):\n",
        "     test_x,test_y = data\n",
        "     y_hat = model.forward(test_x)\n",
        "     preds.append(y_hat)"
      ],
      "execution_count": null,
      "outputs": []
    },
    {
      "cell_type": "code",
      "metadata": {
        "colab": {
          "base_uri": "https://localhost:8080/"
        },
        "id": "xPgbAh5RmW7O",
        "outputId": "11efad5a-4830-4b0e-8ffc-ad58e02665f5"
      },
      "source": [
        "cutoff,f1_max = best_f1(preds,y_test_np)"
      ],
      "execution_count": null,
      "outputs": [
        {
          "output_type": "stream",
          "text": [
            "0.11122399066862326\n",
            "0.12516492215674202\n",
            "0.1390616167326173\n",
            "0.1494704272283708\n",
            "0.16022439625094068\n",
            "0.1687947679850514\n",
            "0.17669971671388102\n",
            "0.18668379362020981\n",
            "0.1984924623115578\n",
            "0.20214395099540583\n",
            "0.2002007024586051\n",
            "0.17542748575047498\n",
            "0.15752895752895751\n",
            "0.1395139513951395\n",
            "0.10493827160493827\n",
            "0.07687959299039004\n",
            "0.05075528700906344\n",
            "0.031367628607277286\n",
            "0.015473887814313346\n",
            "0.010450685826257348\n",
            "0.005263157894736841\n",
            "0.005277044854881266\n",
            "0.0013218770654329147\n",
            "0.0\n"
          ],
          "name": "stdout"
        },
        {
          "output_type": "stream",
          "text": [
            "/usr/local/lib/python3.7/dist-packages/sklearn/metrics/_classification.py:1272: UndefinedMetricWarning: Recall and F-score are ill-defined and being set to 0.0 in labels with no true samples. Use `zero_division` parameter to control this behavior.\n",
            "  _warn_prf(average, modifier, msg_start, len(result))\n"
          ],
          "name": "stderr"
        }
      ]
    },
    {
      "cell_type": "code",
      "metadata": {
        "id": "7kjPtg4n01zH",
        "colab": {
          "base_uri": "https://localhost:8080/"
        },
        "outputId": "d67ba791-cd4e-45eb-8bd1-68fbf3a81a0b"
      },
      "source": [
        "cutoff,f1_max"
      ],
      "execution_count": null,
      "outputs": [
        {
          "output_type": "execute_result",
          "data": {
            "text/plain": [
              "(0.09999999999999999, 0.20214395099540583)"
            ]
          },
          "metadata": {
            "tags": []
          },
          "execution_count": 44
        }
      ]
    },
    {
      "cell_type": "code",
      "metadata": {
        "id": "OV5WXTsf0yjs"
      },
      "source": [
        "preds_ideal = (preds>=cutoff)*1"
      ],
      "execution_count": null,
      "outputs": []
    },
    {
      "cell_type": "code",
      "metadata": {
        "id": "YUnzaot8GB2W",
        "colab": {
          "base_uri": "https://localhost:8080/"
        },
        "outputId": "9a790788-af3a-4750-d11f-2b78f1ccfee3"
      },
      "source": [
        "print(classification_report(preds_ideal,y_test_np))"
      ],
      "execution_count": null,
      "outputs": [
        {
          "output_type": "stream",
          "text": [
            "              precision    recall  f1-score   support\n",
            "\n",
            "           0       0.88      0.96      0.92     25288\n",
            "           1       0.35      0.14      0.20      3712\n",
            "\n",
            "    accuracy                           0.86     29000\n",
            "   macro avg       0.62      0.55      0.56     29000\n",
            "weighted avg       0.82      0.86      0.83     29000\n",
            "\n"
          ],
          "name": "stdout"
        }
      ]
    },
    {
      "cell_type": "code",
      "metadata": {
        "id": "qmkngOPay1sL"
      },
      "source": [
        ""
      ],
      "execution_count": null,
      "outputs": []
    },
    {
      "cell_type": "code",
      "metadata": {
        "id": "9o5Ulntly1vw"
      },
      "source": [
        ""
      ],
      "execution_count": null,
      "outputs": []
    },
    {
      "cell_type": "code",
      "metadata": {
        "id": "pY73NLRhy1yr"
      },
      "source": [
        ""
      ],
      "execution_count": null,
      "outputs": []
    }
  ]
}